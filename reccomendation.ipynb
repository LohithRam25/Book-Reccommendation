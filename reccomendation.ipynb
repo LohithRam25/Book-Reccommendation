{
 "cells": [
  {
   "cell_type": "code",
   "execution_count": 3,
   "metadata": {},
   "outputs": [],
   "source": [
    "import pandas as pd \n",
    "import numpy as np"
   ]
  },
  {
   "cell_type": "code",
   "execution_count": 4,
   "metadata": {},
   "outputs": [],
   "source": [
    "books_data=pd.read_csv(\"D:\\\\MACHINE LEARNING\\\\PROJECTS\\\\Book reccomendations\\\\books_data\\\\books.csv\", encoding='iso-8859-1', on_bad_lines='skip')"
   ]
  },
  {
   "cell_type": "markdown",
   "metadata": {},
   "source": [
    "on_bad_lines=\"skip\" -> skips the lines which leads to error"
   ]
  },
  {
   "cell_type": "code",
   "execution_count": 5,
   "metadata": {},
   "outputs": [
    {
     "name": "stdout",
     "output_type": "stream",
     "text": [
      "  ISBN;\"Book-Title\";\"Book-Author\";\"Year-Of-Publication\";\"Publisher\";\"Image-URL-S\";\"Image-URL-M\";\"Image-URL-L\"\n",
      "0  0195153448;\"Classical Mythology\";\"Mark P. O. M...                                                         \n",
      "1  0002005018;\"Clara Callan\";\"Richard Bruce Wrigh...                                                         \n",
      "2  0060973129;\"Decision in Normandy\";\"Carlo D'Est...                                                         \n",
      "3  0374157065;\"Flu: The Story of the Great Influe...                                                         \n",
      "4  0393045218;\"The Mummies of Urumchi\";\"E. J. W. ...                                                         \n"
     ]
    }
   ],
   "source": [
    "print(books_data.head())"
   ]
  },
  {
   "cell_type": "code",
   "execution_count": 6,
   "metadata": {},
   "outputs": [
    {
     "data": {
      "text/plain": [
       "<bound method NDFrame.tail of        ISBN;\"Book-Title\";\"Book-Author\";\"Year-Of-Publication\";\"Publisher\";\"Image-URL-S\";\"Image-URL-M\";\"Image-URL-L\"\n",
       "0       0195153448;\"Classical Mythology\";\"Mark P. O. M...                                                         \n",
       "1       0002005018;\"Clara Callan\";\"Richard Bruce Wrigh...                                                         \n",
       "2       0060973129;\"Decision in Normandy\";\"Carlo D'Est...                                                         \n",
       "3       0374157065;\"Flu: The Story of the Great Influe...                                                         \n",
       "4       0393045218;\"The Mummies of Urumchi\";\"E. J. W. ...                                                         \n",
       "...                                                   ...                                                         \n",
       "228143  0440400988;\"There's a Bat in Bunk Five\";\"Paula...                                                         \n",
       "228144  0525447644;\"From One to One Hundred\";\"Teri Slo...                                                         \n",
       "228145  006008667X;\"Lily Dale : The True Story of the ...                                                         \n",
       "228146  0192126040;\"Republic (World's Classics)\";\"Plat...                                                         \n",
       "228147  0767409752;\"A Guided Tour of Rene Descartes' M...                                                         \n",
       "\n",
       "[228148 rows x 1 columns]>"
      ]
     },
     "execution_count": 6,
     "metadata": {},
     "output_type": "execute_result"
    }
   ],
   "source": [
    "books_data.tail"
   ]
  },
  {
   "cell_type": "code",
   "execution_count": 7,
   "metadata": {},
   "outputs": [
    {
     "data": {
      "text/plain": [
       "Index(['ISBN;\"Book-Title\";\"Book-Author\";\"Year-Of-Publication\";\"Publisher\";\"Image-URL-S\";\"Image-URL-M\";\"Image-URL-L\"'], dtype='object')"
      ]
     },
     "execution_count": 7,
     "metadata": {},
     "output_type": "execute_result"
    }
   ],
   "source": [
    "books_data.columns"
   ]
  },
  {
   "cell_type": "code",
   "execution_count": 8,
   "metadata": {},
   "outputs": [],
   "source": [
    "books_data = books_data.iloc[:, 0].str.split(';', expand=True)"
   ]
  },
  {
   "cell_type": "code",
   "execution_count": 9,
   "metadata": {},
   "outputs": [
    {
     "data": {
      "text/plain": [
       "<bound method NDFrame.head of                 0                                                  1   \\\n",
       "0       0195153448                              \"Classical Mythology\"   \n",
       "1       0002005018                                     \"Clara Callan\"   \n",
       "2       0060973129                             \"Decision in Normandy\"   \n",
       "3       0374157065  \"Flu: The Story of the Great Influenza Pandemi...   \n",
       "4       0393045218                           \"The Mummies of Urumchi\"   \n",
       "...            ...                                                ...   \n",
       "228143  0440400988                       \"There's a Bat in Bunk Five\"   \n",
       "228144  0525447644                          \"From One to One Hundred\"   \n",
       "228145  006008667X  \"Lily Dale : The True Story of the Town that T...   \n",
       "228146  0192126040                      \"Republic (World's Classics)\"   \n",
       "228147  0767409752  \"A Guided Tour of Rene Descartes' Meditations ...   \n",
       "\n",
       "                            2       3   \\\n",
       "0         \"Mark P. O. Morford\"  \"2002\"   \n",
       "1       \"Richard Bruce Wright\"  \"2001\"   \n",
       "2               \"Carlo D'Este\"  \"1991\"   \n",
       "3           \"Gina Bari Kolata\"  \"1999\"   \n",
       "4            \"E. J. W. Barber\"  \"1999\"   \n",
       "...                        ...     ...   \n",
       "228143        \"Paula Danziger\"  \"1988\"   \n",
       "228144            \"Teri Sloat\"  \"1991\"   \n",
       "228145      \"Christine Wicker\"  \"2004\"   \n",
       "228146                 \"Plato\"  \"1996\"   \n",
       "228147   \"Christopher  Biffle\"  \"2000\"   \n",
       "\n",
       "                                                       4   \\\n",
       "0                               \"Oxford University Press\"   \n",
       "1                                 \"HarperFlamingo Canada\"   \n",
       "2                                       \"HarperPerennial\"   \n",
       "3                                  \"Farrar Straus Giroux\"   \n",
       "4                                      \"W. W. Norton &amp   \n",
       "...                                                   ...   \n",
       "228143                  \"Random House Childrens Pub (Mm)\"   \n",
       "228144                                     \"Dutton Books\"   \n",
       "228145                               \"HarperSanFrancisco\"   \n",
       "228146                          \"Oxford University Press\"   \n",
       "228147  \"McGraw-Hill Humanities/Social Sciences/Langua...   \n",
       "\n",
       "                                                       5   \\\n",
       "0       \"http://images.amazon.com/images/P/0195153448....   \n",
       "1       \"http://images.amazon.com/images/P/0002005018....   \n",
       "2       \"http://images.amazon.com/images/P/0060973129....   \n",
       "3       \"http://images.amazon.com/images/P/0374157065....   \n",
       "4                                                Company\"   \n",
       "...                                                   ...   \n",
       "228143  \"http://images.amazon.com/images/P/0440400988....   \n",
       "228144  \"http://images.amazon.com/images/P/0525447644....   \n",
       "228145  \"http://images.amazon.com/images/P/006008667X....   \n",
       "228146  \"http://images.amazon.com/images/P/0192126040....   \n",
       "228147  \"http://images.amazon.com/images/P/0767409752....   \n",
       "\n",
       "                                                       6   \\\n",
       "0       \"http://images.amazon.com/images/P/0195153448....   \n",
       "1       \"http://images.amazon.com/images/P/0002005018....   \n",
       "2       \"http://images.amazon.com/images/P/0060973129....   \n",
       "3       \"http://images.amazon.com/images/P/0374157065....   \n",
       "4       \"http://images.amazon.com/images/P/0393045218....   \n",
       "...                                                   ...   \n",
       "228143  \"http://images.amazon.com/images/P/0440400988....   \n",
       "228144  \"http://images.amazon.com/images/P/0525447644....   \n",
       "228145  \"http://images.amazon.com/images/P/006008667X....   \n",
       "228146  \"http://images.amazon.com/images/P/0192126040....   \n",
       "228147  \"http://images.amazon.com/images/P/0767409752....   \n",
       "\n",
       "                                                       7   \\\n",
       "0       \"http://images.amazon.com/images/P/0195153448....   \n",
       "1       \"http://images.amazon.com/images/P/0002005018....   \n",
       "2       \"http://images.amazon.com/images/P/0060973129....   \n",
       "3       \"http://images.amazon.com/images/P/0374157065....   \n",
       "4       \"http://images.amazon.com/images/P/0393045218....   \n",
       "...                                                   ...   \n",
       "228143  \"http://images.amazon.com/images/P/0440400988....   \n",
       "228144  \"http://images.amazon.com/images/P/0525447644....   \n",
       "228145  \"http://images.amazon.com/images/P/006008667X....   \n",
       "228146  \"http://images.amazon.com/images/P/0192126040....   \n",
       "228147  \"http://images.amazon.com/images/P/0767409752....   \n",
       "\n",
       "                                                       8     9     10    11  \\\n",
       "0                                                    None  None  None  None   \n",
       "1                                                    None  None  None  None   \n",
       "2                                                    None  None  None  None   \n",
       "3                                                    None  None  None  None   \n",
       "4       \"http://images.amazon.com/images/P/0393045218....  None  None  None   \n",
       "...                                                   ...   ...   ...   ...   \n",
       "228143                                               None  None  None  None   \n",
       "228144                                               None  None  None  None   \n",
       "228145                                               None  None  None  None   \n",
       "228146                                               None  None  None  None   \n",
       "228147                                               None  None  None  None   \n",
       "\n",
       "          12    13  \n",
       "0       None  None  \n",
       "1       None  None  \n",
       "2       None  None  \n",
       "3       None  None  \n",
       "4       None  None  \n",
       "...      ...   ...  \n",
       "228143  None  None  \n",
       "228144  None  None  \n",
       "228145  None  None  \n",
       "228146  None  None  \n",
       "228147  None  None  \n",
       "\n",
       "[228148 rows x 14 columns]>"
      ]
     },
     "execution_count": 9,
     "metadata": {},
     "output_type": "execute_result"
    }
   ],
   "source": [
    "books_data.head"
   ]
  },
  {
   "cell_type": "code",
   "execution_count": 10,
   "metadata": {},
   "outputs": [],
   "source": [
    "books_data=books_data.drop([8,9,10,11,12,13],axis=1)"
   ]
  },
  {
   "cell_type": "code",
   "execution_count": 11,
   "metadata": {},
   "outputs": [
    {
     "data": {
      "text/plain": [
       "(228148, 8)"
      ]
     },
     "execution_count": 11,
     "metadata": {},
     "output_type": "execute_result"
    }
   ],
   "source": [
    "books_data.shape"
   ]
  },
  {
   "cell_type": "code",
   "execution_count": 12,
   "metadata": {},
   "outputs": [],
   "source": [
    "column_names = [\"ISBN\", \"Book-Title\", \"Book-Author\", \"Year-Of-Publication\", \"Publisher\", \"Image-URL-S\", \"Image-URL-M\", \"Image-URL-L\"]\n",
    "books_data.columns = column_names"
   ]
  },
  {
   "cell_type": "code",
   "execution_count": 13,
   "metadata": {},
   "outputs": [
    {
     "data": {
      "text/html": [
       "<div>\n",
       "<style scoped>\n",
       "    .dataframe tbody tr th:only-of-type {\n",
       "        vertical-align: middle;\n",
       "    }\n",
       "\n",
       "    .dataframe tbody tr th {\n",
       "        vertical-align: top;\n",
       "    }\n",
       "\n",
       "    .dataframe thead th {\n",
       "        text-align: right;\n",
       "    }\n",
       "</style>\n",
       "<table border=\"1\" class=\"dataframe\">\n",
       "  <thead>\n",
       "    <tr style=\"text-align: right;\">\n",
       "      <th></th>\n",
       "      <th>ISBN</th>\n",
       "      <th>Book-Title</th>\n",
       "      <th>Book-Author</th>\n",
       "      <th>Year-Of-Publication</th>\n",
       "      <th>Publisher</th>\n",
       "      <th>Image-URL-S</th>\n",
       "      <th>Image-URL-M</th>\n",
       "      <th>Image-URL-L</th>\n",
       "    </tr>\n",
       "  </thead>\n",
       "  <tbody>\n",
       "    <tr>\n",
       "      <th>0</th>\n",
       "      <td>0195153448</td>\n",
       "      <td>\"Classical Mythology\"</td>\n",
       "      <td>\"Mark P. O. Morford\"</td>\n",
       "      <td>\"2002\"</td>\n",
       "      <td>\"Oxford University Press\"</td>\n",
       "      <td>\"http://images.amazon.com/images/P/0195153448....</td>\n",
       "      <td>\"http://images.amazon.com/images/P/0195153448....</td>\n",
       "      <td>\"http://images.amazon.com/images/P/0195153448....</td>\n",
       "    </tr>\n",
       "    <tr>\n",
       "      <th>1</th>\n",
       "      <td>0002005018</td>\n",
       "      <td>\"Clara Callan\"</td>\n",
       "      <td>\"Richard Bruce Wright\"</td>\n",
       "      <td>\"2001\"</td>\n",
       "      <td>\"HarperFlamingo Canada\"</td>\n",
       "      <td>\"http://images.amazon.com/images/P/0002005018....</td>\n",
       "      <td>\"http://images.amazon.com/images/P/0002005018....</td>\n",
       "      <td>\"http://images.amazon.com/images/P/0002005018....</td>\n",
       "    </tr>\n",
       "    <tr>\n",
       "      <th>2</th>\n",
       "      <td>0060973129</td>\n",
       "      <td>\"Decision in Normandy\"</td>\n",
       "      <td>\"Carlo D'Este\"</td>\n",
       "      <td>\"1991\"</td>\n",
       "      <td>\"HarperPerennial\"</td>\n",
       "      <td>\"http://images.amazon.com/images/P/0060973129....</td>\n",
       "      <td>\"http://images.amazon.com/images/P/0060973129....</td>\n",
       "      <td>\"http://images.amazon.com/images/P/0060973129....</td>\n",
       "    </tr>\n",
       "    <tr>\n",
       "      <th>3</th>\n",
       "      <td>0374157065</td>\n",
       "      <td>\"Flu: The Story of the Great Influenza Pandemi...</td>\n",
       "      <td>\"Gina Bari Kolata\"</td>\n",
       "      <td>\"1999\"</td>\n",
       "      <td>\"Farrar Straus Giroux\"</td>\n",
       "      <td>\"http://images.amazon.com/images/P/0374157065....</td>\n",
       "      <td>\"http://images.amazon.com/images/P/0374157065....</td>\n",
       "      <td>\"http://images.amazon.com/images/P/0374157065....</td>\n",
       "    </tr>\n",
       "    <tr>\n",
       "      <th>4</th>\n",
       "      <td>0393045218</td>\n",
       "      <td>\"The Mummies of Urumchi\"</td>\n",
       "      <td>\"E. J. W. Barber\"</td>\n",
       "      <td>\"1999\"</td>\n",
       "      <td>\"W. W. Norton &amp;amp</td>\n",
       "      <td>Company\"</td>\n",
       "      <td>\"http://images.amazon.com/images/P/0393045218....</td>\n",
       "      <td>\"http://images.amazon.com/images/P/0393045218....</td>\n",
       "    </tr>\n",
       "  </tbody>\n",
       "</table>\n",
       "</div>"
      ],
      "text/plain": [
       "         ISBN                                         Book-Title  \\\n",
       "0  0195153448                              \"Classical Mythology\"   \n",
       "1  0002005018                                     \"Clara Callan\"   \n",
       "2  0060973129                             \"Decision in Normandy\"   \n",
       "3  0374157065  \"Flu: The Story of the Great Influenza Pandemi...   \n",
       "4  0393045218                           \"The Mummies of Urumchi\"   \n",
       "\n",
       "              Book-Author Year-Of-Publication                  Publisher  \\\n",
       "0    \"Mark P. O. Morford\"              \"2002\"  \"Oxford University Press\"   \n",
       "1  \"Richard Bruce Wright\"              \"2001\"    \"HarperFlamingo Canada\"   \n",
       "2          \"Carlo D'Este\"              \"1991\"          \"HarperPerennial\"   \n",
       "3      \"Gina Bari Kolata\"              \"1999\"     \"Farrar Straus Giroux\"   \n",
       "4       \"E. J. W. Barber\"              \"1999\"         \"W. W. Norton &amp   \n",
       "\n",
       "                                         Image-URL-S  \\\n",
       "0  \"http://images.amazon.com/images/P/0195153448....   \n",
       "1  \"http://images.amazon.com/images/P/0002005018....   \n",
       "2  \"http://images.amazon.com/images/P/0060973129....   \n",
       "3  \"http://images.amazon.com/images/P/0374157065....   \n",
       "4                                           Company\"   \n",
       "\n",
       "                                         Image-URL-M  \\\n",
       "0  \"http://images.amazon.com/images/P/0195153448....   \n",
       "1  \"http://images.amazon.com/images/P/0002005018....   \n",
       "2  \"http://images.amazon.com/images/P/0060973129....   \n",
       "3  \"http://images.amazon.com/images/P/0374157065....   \n",
       "4  \"http://images.amazon.com/images/P/0393045218....   \n",
       "\n",
       "                                         Image-URL-L  \n",
       "0  \"http://images.amazon.com/images/P/0195153448....  \n",
       "1  \"http://images.amazon.com/images/P/0002005018....  \n",
       "2  \"http://images.amazon.com/images/P/0060973129....  \n",
       "3  \"http://images.amazon.com/images/P/0374157065....  \n",
       "4  \"http://images.amazon.com/images/P/0393045218....  "
      ]
     },
     "execution_count": 13,
     "metadata": {},
     "output_type": "execute_result"
    }
   ],
   "source": [
    "books_data.head()"
   ]
  },
  {
   "cell_type": "code",
   "execution_count": 14,
   "metadata": {},
   "outputs": [],
   "source": [
    "user_data=pd.read_csv(\"D:\\\\MACHINE LEARNING\\\\PROJECTS\\\\Book reccomendations\\\\books_data\\\\users.csv\",on_bad_lines='skip',encoding='iso-8859-1')"
   ]
  },
  {
   "cell_type": "code",
   "execution_count": 15,
   "metadata": {},
   "outputs": [
    {
     "data": {
      "text/html": [
       "<div>\n",
       "<style scoped>\n",
       "    .dataframe tbody tr th:only-of-type {\n",
       "        vertical-align: middle;\n",
       "    }\n",
       "\n",
       "    .dataframe tbody tr th {\n",
       "        vertical-align: top;\n",
       "    }\n",
       "\n",
       "    .dataframe thead th {\n",
       "        text-align: right;\n",
       "    }\n",
       "</style>\n",
       "<table border=\"1\" class=\"dataframe\">\n",
       "  <thead>\n",
       "    <tr style=\"text-align: right;\">\n",
       "      <th></th>\n",
       "      <th></th>\n",
       "      <th>User-ID;\"Location\";\"Age\"</th>\n",
       "    </tr>\n",
       "  </thead>\n",
       "  <tbody>\n",
       "    <tr>\n",
       "      <th>1;\"nyc</th>\n",
       "      <th>new york</th>\n",
       "      <td>usa\";NULL</td>\n",
       "    </tr>\n",
       "    <tr>\n",
       "      <th>2;\"stockton</th>\n",
       "      <th>california</th>\n",
       "      <td>usa\";\"18\"</td>\n",
       "    </tr>\n",
       "    <tr>\n",
       "      <th>3;\"moscow</th>\n",
       "      <th>yukon territory</th>\n",
       "      <td>russia\";NULL</td>\n",
       "    </tr>\n",
       "    <tr>\n",
       "      <th>4;\"porto</th>\n",
       "      <th>v.n.gaia</th>\n",
       "      <td>portugal\";\"17\"</td>\n",
       "    </tr>\n",
       "    <tr>\n",
       "      <th>5;\"farnborough</th>\n",
       "      <th>hants</th>\n",
       "      <td>united kingdom\";NULL</td>\n",
       "    </tr>\n",
       "  </tbody>\n",
       "</table>\n",
       "</div>"
      ],
      "text/plain": [
       "                               User-ID;\"Location\";\"Age\"\n",
       "1;\"nyc         new york                       usa\";NULL\n",
       "2;\"stockton    california                     usa\";\"18\"\n",
       "3;\"moscow      yukon territory             russia\";NULL\n",
       "4;\"porto       v.n.gaia                  portugal\";\"17\"\n",
       "5;\"farnborough hants               united kingdom\";NULL"
      ]
     },
     "execution_count": 15,
     "metadata": {},
     "output_type": "execute_result"
    }
   ],
   "source": [
    "user_data.head()"
   ]
  },
  {
   "cell_type": "code",
   "execution_count": 16,
   "metadata": {},
   "outputs": [
    {
     "data": {
      "text/plain": [
       "1;\"nyc             new york                       usa\";NULL\n",
       "2;\"stockton        california                     usa\";\"18\"\n",
       "3;\"moscow          yukon territory             russia\";NULL\n",
       "4;\"porto           v.n.gaia                  portugal\";\"17\"\n",
       "5;\"farnborough     hants               united kingdom\";NULL\n",
       "                                              ...          \n",
       "278854;\"portland   oregon                         usa\";NULL\n",
       "278855;\"tacoma     washington          united kingdom\";\"50\"\n",
       "278856;\"brampton   ontario                     canada\";NULL\n",
       "278857;\"knoxville  tennessee                      usa\";NULL\n",
       "278858;\"dublin     n/a                        ireland\";NULL\n",
       "Name: User-ID;\"Location\";\"Age\", Length: 272233, dtype: object"
      ]
     },
     "execution_count": 16,
     "metadata": {},
     "output_type": "execute_result"
    }
   ],
   "source": [
    "user_data[\"User-ID;\\\"Location\\\";\\\"Age\\\"\"]"
   ]
  },
  {
   "cell_type": "code",
   "execution_count": 17,
   "metadata": {},
   "outputs": [],
   "source": [
    "columns=[\"User_id\",\"Location\",\"Age\"]\n",
    "user_data=user_data[\"User-ID;\\\"Location\\\";\\\"Age\\\"\"].str.split(\";\",expand=True)"
   ]
  },
  {
   "cell_type": "code",
   "execution_count": 18,
   "metadata": {},
   "outputs": [
    {
     "data": {
      "text/plain": [
       "<bound method NDFrame.head of                                                   0     1     2     3\n",
       "1;\"nyc            new york                     usa\"  NULL  None  None\n",
       "2;\"stockton       california                   usa\"  \"18\"  None  None\n",
       "3;\"moscow         yukon territory           russia\"  NULL  None  None\n",
       "4;\"porto          v.n.gaia                portugal\"  \"17\"  None  None\n",
       "5;\"farnborough    hants             united kingdom\"  NULL  None  None\n",
       "...                                             ...   ...   ...   ...\n",
       "278854;\"portland  oregon                       usa\"  NULL  None  None\n",
       "278855;\"tacoma    washington        united kingdom\"  \"50\"  None  None\n",
       "278856;\"brampton  ontario                   canada\"  NULL  None  None\n",
       "278857;\"knoxville tennessee                    usa\"  NULL  None  None\n",
       "278858;\"dublin    n/a                      ireland\"  NULL  None  None\n",
       "\n",
       "[272233 rows x 4 columns]>"
      ]
     },
     "execution_count": 18,
     "metadata": {},
     "output_type": "execute_result"
    }
   ],
   "source": [
    "user_data.head"
   ]
  },
  {
   "cell_type": "code",
   "execution_count": 19,
   "metadata": {},
   "outputs": [
    {
     "data": {
      "text/html": [
       "<div>\n",
       "<style scoped>\n",
       "    .dataframe tbody tr th:only-of-type {\n",
       "        vertical-align: middle;\n",
       "    }\n",
       "\n",
       "    .dataframe tbody tr th {\n",
       "        vertical-align: top;\n",
       "    }\n",
       "\n",
       "    .dataframe thead th {\n",
       "        text-align: right;\n",
       "    }\n",
       "</style>\n",
       "<table border=\"1\" class=\"dataframe\">\n",
       "  <thead>\n",
       "    <tr style=\"text-align: right;\">\n",
       "      <th></th>\n",
       "      <th></th>\n",
       "      <th>0</th>\n",
       "      <th>1</th>\n",
       "      <th>2</th>\n",
       "      <th>3</th>\n",
       "    </tr>\n",
       "  </thead>\n",
       "  <tbody>\n",
       "    <tr>\n",
       "      <th>1;\"nyc</th>\n",
       "      <th>new york</th>\n",
       "      <td>usa\"</td>\n",
       "      <td>NULL</td>\n",
       "      <td>None</td>\n",
       "      <td>None</td>\n",
       "    </tr>\n",
       "    <tr>\n",
       "      <th>2;\"stockton</th>\n",
       "      <th>california</th>\n",
       "      <td>usa\"</td>\n",
       "      <td>\"18\"</td>\n",
       "      <td>None</td>\n",
       "      <td>None</td>\n",
       "    </tr>\n",
       "    <tr>\n",
       "      <th>3;\"moscow</th>\n",
       "      <th>yukon territory</th>\n",
       "      <td>russia\"</td>\n",
       "      <td>NULL</td>\n",
       "      <td>None</td>\n",
       "      <td>None</td>\n",
       "    </tr>\n",
       "    <tr>\n",
       "      <th>4;\"porto</th>\n",
       "      <th>v.n.gaia</th>\n",
       "      <td>portugal\"</td>\n",
       "      <td>\"17\"</td>\n",
       "      <td>None</td>\n",
       "      <td>None</td>\n",
       "    </tr>\n",
       "    <tr>\n",
       "      <th>5;\"farnborough</th>\n",
       "      <th>hants</th>\n",
       "      <td>united kingdom\"</td>\n",
       "      <td>NULL</td>\n",
       "      <td>None</td>\n",
       "      <td>None</td>\n",
       "    </tr>\n",
       "    <tr>\n",
       "      <th>...</th>\n",
       "      <th>...</th>\n",
       "      <td>...</td>\n",
       "      <td>...</td>\n",
       "      <td>...</td>\n",
       "      <td>...</td>\n",
       "    </tr>\n",
       "    <tr>\n",
       "      <th>278854;\"portland</th>\n",
       "      <th>oregon</th>\n",
       "      <td>usa\"</td>\n",
       "      <td>NULL</td>\n",
       "      <td>None</td>\n",
       "      <td>None</td>\n",
       "    </tr>\n",
       "    <tr>\n",
       "      <th>278855;\"tacoma</th>\n",
       "      <th>washington</th>\n",
       "      <td>united kingdom\"</td>\n",
       "      <td>\"50\"</td>\n",
       "      <td>None</td>\n",
       "      <td>None</td>\n",
       "    </tr>\n",
       "    <tr>\n",
       "      <th>278856;\"brampton</th>\n",
       "      <th>ontario</th>\n",
       "      <td>canada\"</td>\n",
       "      <td>NULL</td>\n",
       "      <td>None</td>\n",
       "      <td>None</td>\n",
       "    </tr>\n",
       "    <tr>\n",
       "      <th>278857;\"knoxville</th>\n",
       "      <th>tennessee</th>\n",
       "      <td>usa\"</td>\n",
       "      <td>NULL</td>\n",
       "      <td>None</td>\n",
       "      <td>None</td>\n",
       "    </tr>\n",
       "    <tr>\n",
       "      <th>278858;\"dublin</th>\n",
       "      <th>n/a</th>\n",
       "      <td>ireland\"</td>\n",
       "      <td>NULL</td>\n",
       "      <td>None</td>\n",
       "      <td>None</td>\n",
       "    </tr>\n",
       "  </tbody>\n",
       "</table>\n",
       "<p>272233 rows × 4 columns</p>\n",
       "</div>"
      ],
      "text/plain": [
       "                                                  0     1     2     3\n",
       "1;\"nyc            new york                     usa\"  NULL  None  None\n",
       "2;\"stockton       california                   usa\"  \"18\"  None  None\n",
       "3;\"moscow         yukon territory           russia\"  NULL  None  None\n",
       "4;\"porto          v.n.gaia                portugal\"  \"17\"  None  None\n",
       "5;\"farnborough    hants             united kingdom\"  NULL  None  None\n",
       "...                                             ...   ...   ...   ...\n",
       "278854;\"portland  oregon                       usa\"  NULL  None  None\n",
       "278855;\"tacoma    washington        united kingdom\"  \"50\"  None  None\n",
       "278856;\"brampton  ontario                   canada\"  NULL  None  None\n",
       "278857;\"knoxville tennessee                    usa\"  NULL  None  None\n",
       "278858;\"dublin    n/a                      ireland\"  NULL  None  None\n",
       "\n",
       "[272233 rows x 4 columns]"
      ]
     },
     "execution_count": 19,
     "metadata": {},
     "output_type": "execute_result"
    }
   ],
   "source": [
    "user_data"
   ]
  },
  {
   "cell_type": "code",
   "execution_count": 20,
   "metadata": {},
   "outputs": [],
   "source": [
    "new_data=pd.read_csv(\"D:\\\\MACHINE LEARNING\\\\PROJECTS\\\\Book reccomendations\\\\books_data\\\\kindle_data-v2.csv\")\n"
   ]
  },
  {
   "cell_type": "code",
   "execution_count": null,
   "metadata": {},
   "outputs": [
    {
     "data": {
      "text/html": [
       "<div>\n",
       "<style scoped>\n",
       "    .dataframe tbody tr th:only-of-type {\n",
       "        vertical-align: middle;\n",
       "    }\n",
       "\n",
       "    .dataframe tbody tr th {\n",
       "        vertical-align: top;\n",
       "    }\n",
       "\n",
       "    .dataframe thead th {\n",
       "        text-align: right;\n",
       "    }\n",
       "</style>\n",
       "<table border=\"1\" class=\"dataframe\">\n",
       "  <thead>\n",
       "    <tr style=\"text-align: right;\">\n",
       "      <th></th>\n",
       "      <th>asin</th>\n",
       "      <th>title</th>\n",
       "      <th>author</th>\n",
       "      <th>soldBy</th>\n",
       "      <th>imgUrl</th>\n",
       "      <th>productURL</th>\n",
       "      <th>stars</th>\n",
       "      <th>reviews</th>\n",
       "      <th>price</th>\n",
       "      <th>isKindleUnlimited</th>\n",
       "      <th>category_id</th>\n",
       "      <th>isBestSeller</th>\n",
       "      <th>isEditorsPick</th>\n",
       "      <th>isGoodReadsChoice</th>\n",
       "      <th>publishedDate</th>\n",
       "      <th>category_name</th>\n",
       "    </tr>\n",
       "  </thead>\n",
       "  <tbody>\n",
       "  </tbody>\n",
       "</table>\n",
       "</div>"
      ],
      "text/plain": [
       "Empty DataFrame\n",
       "Columns: [asin, title, author, soldBy, imgUrl, productURL, stars, reviews, price, isKindleUnlimited, category_id, isBestSeller, isEditorsPick, isGoodReadsChoice, publishedDate, category_name]\n",
       "Index: []"
      ]
     },
     "execution_count": 21,
     "metadata": {},
     "output_type": "execute_result"
    }
   ],
   "source": []
  },
  {
   "cell_type": "code",
   "execution_count": null,
   "metadata": {},
   "outputs": [],
   "source": []
  }
 ],
 "metadata": {
  "kernelspec": {
   "display_name": "Python 3",
   "language": "python",
   "name": "python3"
  },
  "language_info": {
   "codemirror_mode": {
    "name": "ipython",
    "version": 3
   },
   "file_extension": ".py",
   "mimetype": "text/x-python",
   "name": "python",
   "nbconvert_exporter": "python",
   "pygments_lexer": "ipython3",
   "version": "3.12.4"
  }
 },
 "nbformat": 4,
 "nbformat_minor": 2
}
